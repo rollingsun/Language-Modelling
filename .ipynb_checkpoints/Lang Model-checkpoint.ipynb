{
 "cells": [
  {
   "cell_type": "code",
   "execution_count": 3,
   "metadata": {
    "collapsed": false
   },
   "outputs": [],
   "source": [
    "import numpy \n",
    "from keras.models import Sequential\n",
    "from keras.layers import Dense\n",
    "from keras.layers import Dropout\n",
    "from keras.layers import LSTM\n",
    "from keras.callbacks import ModelCheckpoint\n",
    "from keras.utils import np_utils"
   ]
  },
  {
   "cell_type": "code",
   "execution_count": 19,
   "metadata": {
    "collapsed": false
   },
   "outputs": [
    {
     "name": "stdout",
     "output_type": "stream",
     "text": [
      "Toal 45 characters found. \n",
      "[' ', '!', '\"', \"'\", '(', ')', '*', ',', '-']\n",
      "Total 144408 words found in book\n"
     ]
    }
   ],
   "source": [
    "#Open the file and read contents\n",
    "raw_text=open('Alice.txt').read()\n",
    "raw_text=raw_text.lower()\n",
    "\n",
    "#Mapping the characters to integers\n",
    "chars=sorted(list(set(raw_text)))\n",
    "char_to_int=dict((c,i) for i, c in enumerate(chars))\n",
    "\n",
    "#Print the number of unique characters\n",
    "print(\"Toal %d characters found. \"%(len(chars)))\n",
    "print(char[1:10])\n",
    "\n",
    "#Print total words in the vocabulary\n",
    "print(\"Total %d words found in book\" %len(raw_text))"
   ]
  },
  {
   "cell_type": "code",
   "execution_count": 25,
   "metadata": {
    "collapsed": false
   },
   "outputs": [
    {
     "name": "stdout",
     "output_type": "stream",
     "text": [
      "Total 144333 patterns are created\n"
     ]
    }
   ],
   "source": [
    "#Length of sequence to learn from is defined below\n",
    "seq_length=75\n",
    "X=[]\n",
    "y=[]\n",
    "\n",
    "for i in range(0, len(raw_text)-seq_length):\n",
    "    seq_in=raw_text[i:i+seq_length]\n",
    "    seq_out=raw_text[i+seq_length]\n",
    "    X.append([char_to_int[char] for char in seq_in])\n",
    "    y.append(char_to_int[cchar] for char in seq_out)\n",
    "    \n",
    "#Here we have mapped 74 words sequence in X and the 75 character which is our target variable in Y\n",
    "\n",
    "#total such patterns created\n",
    "print(\"Total %d patterns are created\"%len(X))"
   ]
  },
  {
   "cell_type": "code",
   "execution_count": null,
   "metadata": {
    "collapsed": true
   },
   "outputs": [],
   "source": [
    "#First we must transform the list of input sequences into the form [samples, time steps, features] \n",
    "#expected by an LSTM network.\n",
    "\n",
    "\n"
   ]
  }
 ],
 "metadata": {
  "kernelspec": {
   "display_name": "Python 3",
   "language": "python",
   "name": "python3"
  },
  "language_info": {
   "codemirror_mode": {
    "name": "ipython",
    "version": 3
   },
   "file_extension": ".py",
   "mimetype": "text/x-python",
   "name": "python",
   "nbconvert_exporter": "python",
   "pygments_lexer": "ipython3",
   "version": "3.5.2"
  }
 },
 "nbformat": 4,
 "nbformat_minor": 2
}
